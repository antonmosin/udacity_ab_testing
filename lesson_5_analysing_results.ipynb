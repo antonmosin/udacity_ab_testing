{
 "cells": [
  {
   "cell_type": "markdown",
   "metadata": {},
   "source": [
    "# Lesson 5: Analysing results\n",
    "\n",
    "* Sanity Checks\n",
    "* Evaluating experiment: Single Evaluation Metric, Multiple Evaluation Metrics\n",
    "* Gotchas"
   ]
  },
  {
   "cell_type": "code",
   "execution_count": 1,
   "metadata": {
    "collapsed": true
   },
   "outputs": [],
   "source": [
    "%matplotlib inline\n",
    "\n",
    "import numpy as np\n",
    "import pandas as pd\n",
    "from scipy.stats import norm, binom, binom_test\n",
    "\n",
    "import matplotlib.pyplot as plt\n",
    "from matplotlib.pylab import rcParams\n",
    "\n",
    "rcParams['figure.figsize'] = (10, 6)"
   ]
  },
  {
   "cell_type": "markdown",
   "metadata": {},
   "source": [
    "# 1. Sanity Checks - invariant metrics\n",
    "* Population sizing metrics  based on unit of diversion = Ensure that experiment and control populations are comparable\n",
    "* Any other invariant metrics = Check whether invariance metrics did not change during experiment\n",
    "\n",
    "### 1.1. Select Invariant metrics - based on unit of diversion!\n",
    "<img src=\"images/lesson5_quiz_selecting_invariants.png\">\n",
    "<img src=\"images/lesson5_quiz_selecting_invariants_2.png\">\n",
    "\n",
    "### 1.2 Check invariant metrics - populations sizing"
   ]
  },
  {
   "cell_type": "markdown",
   "metadata": {},
   "source": [
    "Bayesian approach"
   ]
  },
  {
   "cell_type": "code",
   "execution_count": 2,
   "metadata": {
    "collapsed": true
   },
   "outputs": [],
   "source": [
    "from scipy.stats import binom\n",
    "test_split = (64454, 61818) # control, test\n",
    "lower = binom.ppf(n=sum(test_split), p=0.5, q=0.025) \n",
    "upper = binom.ppf(n=sum(test_split), p=0.5, q=0.975)"
   ]
  },
  {
   "cell_type": "code",
   "execution_count": 3,
   "metadata": {
    "scrolled": true
   },
   "outputs": [
    {
     "data": {
      "text/plain": [
       "0.48956221490116575"
      ]
     },
     "execution_count": 3,
     "metadata": {},
     "output_type": "execute_result"
    }
   ],
   "source": [
    "test_split[1] / sum(test_split)"
   ]
  },
  {
   "cell_type": "code",
   "execution_count": 4,
   "metadata": {},
   "outputs": [
    {
     "data": {
      "text/plain": [
       "(62788.0, 63484.0)"
      ]
     },
     "execution_count": 4,
     "metadata": {},
     "output_type": "execute_result"
    }
   ],
   "source": [
    "lower, upper"
   ]
  },
  {
   "cell_type": "code",
   "execution_count": 5,
   "metadata": {},
   "outputs": [
    {
     "data": {
      "text/plain": [
       "61818"
      ]
     },
     "execution_count": 5,
     "metadata": {},
     "output_type": "execute_result"
    }
   ],
   "source": [
    "test_split[1]"
   ]
  },
  {
   "cell_type": "code",
   "execution_count": 6,
   "metadata": {
    "scrolled": false
   },
   "outputs": [
    {
     "data": {
      "text/plain": [
       "1.2113361931481954e-13"
      ]
     },
     "execution_count": 6,
     "metadata": {},
     "output_type": "execute_result"
    }
   ],
   "source": [
    "binom_test(test_split, p=0.5)"
   ]
  },
  {
   "cell_type": "markdown",
   "metadata": {},
   "source": [
    "Frequentist approach"
   ]
  },
  {
   "cell_type": "code",
   "execution_count": 7,
   "metadata": {},
   "outputs": [
    {
     "data": {
      "text/plain": [
       "0.500587084148728"
      ]
     },
     "execution_count": 7,
     "metadata": {},
     "output_type": "execute_result"
    }
   ],
   "source": [
    "test_split = (15348, 15312) # control, test\n",
    "test_split[0] / sum(test_split)"
   ]
  },
  {
   "cell_type": "code",
   "execution_count": 8,
   "metadata": {},
   "outputs": [
    {
     "name": "stdout",
     "output_type": "stream",
     "text": [
      "0.00285551160217\n"
     ]
    }
   ],
   "source": [
    "p = 0.5\n",
    "z = 1.96\n",
    "se = np.sqrt(p*(1-p)/sum(test_split))\n",
    "print(se)"
   ]
  },
  {
   "cell_type": "code",
   "execution_count": 9,
   "metadata": {},
   "outputs": [
    {
     "data": {
      "text/plain": [
       "(0.49440319725975251, 0.50559680274024754)"
      ]
     },
     "execution_count": 9,
     "metadata": {},
     "output_type": "execute_result"
    }
   ],
   "source": [
    "p - z * se, p + z * se"
   ]
  },
  {
   "cell_type": "markdown",
   "metadata": {},
   "source": [
    "### What to do if sanity checks failed\n",
    "\n",
    "* Check technical set-up with engineers\n",
    "* Retrospective analysis: try to reconstruct experiment diversion from previous data\n",
    "* Pre-/post-period. If I saw same change in pre\n",
    "\n",
    "Most common causes: \n",
    "* data capture\n",
    "* experiment set-up\n",
    "* infrastracture\n",
    "\n",
    "Possibly not a learning effect if we see big changes/differences right from the beginning."
   ]
  },
  {
   "cell_type": "markdown",
   "metadata": {},
   "source": [
    "# 2. Evaluating experiment\n",
    "\n",
    "## 2.1 Single evaluation metric\n",
    "\n",
    "Goal: make business decision based on whether the experiment favorably affected the summary metric.\n",
    "\n",
    "Analytically: decide if change in summary metric was statistically significant, also taking into cosideration magnitude and direction of change.\n",
    "\n",
    "\n",
    "**Is significant check** \n",
    "\n",
    "Combine results of previous steps\n",
    "\n",
    "* Characterising metrics, how it behaves (lesson 3)\n",
    "* Variability estimation => how long to run the experiment (lesson 4)\n",
    "\n",
    "\n",
    "**What if not significant?**\n",
    "\n",
    "* Look into days of week, slice by groups etc. to better understand the response and find some possible bugs.\n",
    "* Cross-check results of parametric vs. non-parametric (e.g. sign-test) "
   ]
  },
  {
   "cell_type": "markdown",
   "metadata": {},
   "source": [
    "#### Quiz 9 \n",
    "https://classroom.udacity.com/courses/ud257/lessons/4085798776/concepts/40737188220923"
   ]
  },
  {
   "cell_type": "code",
   "execution_count": 10,
   "metadata": {},
   "outputs": [
    {
     "name": "stdout",
     "output_type": "stream",
     "text": [
      "0.0116010196035\n"
     ]
    }
   ],
   "source": [
    "# data\n",
    "Xs_cont = np.array([196, 200, 200, 216, 212, 185, 225, 187, 205, 211, 192, 196, 223, 192])\n",
    "Ns_cont = np.array([2029, 1991, 1951, 1985, 1973, 2021, 2041, 1980, 1951, 1988, 1977, 2019, 2035, 2007])\n",
    "\n",
    "Xs_exp = np.array([179, 208, 205, 175, 191, 291, 278, 216, 225, 207, 205, 200, 297, 299])\n",
    "Ns_exp = np.array([1971, 2009, 2049, 2015, 2027, 1979, 1959, 2020, 2049, 2012, 2023, 1981, 1965, 1993])\n",
    "\n",
    "# meta\n",
    "d_min = 0.01\n",
    "alpha = 0.05\n",
    "z = round(norm.ppf(1-alpha/2), 2)\n",
    "\n",
    "size_empir = 5000\n",
    "se_empir = 0.0062 # empricial Standard Error with 5000 in each group\n",
    "\n",
    "\n",
    "dif = sum(Xs_exp) / sum(Ns_exp) - sum(Xs_cont)/sum(Ns_cont)\n",
    "print(dif)"
   ]
  },
  {
   "cell_type": "markdown",
   "metadata": {},
   "source": [
    "$\\frac{\\text{se empir}}{\\text{scale empir}} = \\frac{\\text{SE}}{\\text{scal experim}}$"
   ]
  },
  {
   "cell_type": "code",
   "execution_count": 11,
   "metadata": {},
   "outputs": [
    {
     "data": {
      "text/plain": [
       "(0.002619982707795742, 0.0062)"
      ]
     },
     "execution_count": 11,
     "metadata": {},
     "output_type": "execute_result"
    }
   ],
   "source": [
    "scal_experim = np.sqrt(1 / sum(Ns_cont) + 1/sum(Ns_exp))\n",
    "scal_empir = np.sqrt(1 / size_empir + 1/size_empir)\n",
    "se = se_empir * scal_experim / scal_empir\n",
    "se, se_empir"
   ]
  },
  {
   "cell_type": "code",
   "execution_count": 12,
   "metadata": {},
   "outputs": [
    {
     "data": {
      "text/plain": [
       "(0.0064658534962369341, 0.016736185710796242)"
      ]
     },
     "execution_count": 12,
     "metadata": {},
     "output_type": "execute_result"
    }
   ],
   "source": [
    "effect_size = (dif - z * se, dif + z * se)\n",
    "effect_size"
   ]
  },
  {
   "cell_type": "code",
   "execution_count": 13,
   "metadata": {
    "collapsed": true
   },
   "outputs": [],
   "source": [
    "Ps_cont = Xs_cont / Ns_cont\n",
    "Ps_exp = Xs_exp / Ns_exp"
   ]
  },
  {
   "cell_type": "code",
   "execution_count": 14,
   "metadata": {},
   "outputs": [
    {
     "data": {
      "text/plain": [
       "0.42395019531249989"
      ]
     },
     "execution_count": 14,
     "metadata": {},
     "output_type": "execute_result"
    }
   ],
   "source": [
    "# p_value of sign test\n",
    "binom_test(x=sum(Ps_exp > Ps_cont), p=0.5, n=len(Ps_cont))"
   ]
  },
  {
   "cell_type": "code",
   "execution_count": 15,
   "metadata": {},
   "outputs": [
    {
     "data": {
      "image/png": "[encoded data removed]",
      "text/plain": [
       "<matplotlib.figure.Figure at 0x111eed860>"
      ]
     },
     "metadata": {},
     "output_type": "display_data"
    }
   ],
   "source": [
    "pd.Series(Ps_cont).plot(label='control')\n",
    "pd.Series(Ps_exp).plot(label='experiment')\n",
    "_ = plt.legend()\n",
    "_ = plt.title('CTR')"
   ]
  },
  {
   "cell_type": "code",
   "execution_count": 16,
   "metadata": {
    "collapsed": true
   },
   "outputs": [],
   "source": [
    "control_share = Ns_cont / (Ns_cont + Ns_exp)\n",
    "total = Ns_cont + Ns_exp"
   ]
  },
  {
   "cell_type": "code",
   "execution_count": 17,
   "metadata": {},
   "outputs": [
    {
     "data": {
      "text/plain": [
       "2091.0"
      ]
     },
     "execution_count": 17,
     "metadata": {},
     "output_type": "execute_result"
    }
   ],
   "source": [
    "binom.ppf(n=total[0], p=control_share[0], q=0.975)"
   ]
  },
  {
   "cell_type": "code",
   "execution_count": 18,
   "metadata": {},
   "outputs": [
    {
     "data": {
      "image/png": "[encoded data removed]",
      "text/plain": [
       "<matplotlib.figure.Figure at 0x11217f278>"
      ]
     },
     "metadata": {},
     "output_type": "display_data"
    }
   ],
   "source": [
    "pd.Series(control_share).plot()\n",
    "_ = plt.axhline(0.5, ls='--', color='red')"
   ]
  },
  {
   "cell_type": "markdown",
   "metadata": {},
   "source": [
    "Recommendation: stop and understand why CTR is so much higher on the weekends"
   ]
  },
  {
   "cell_type": "markdown",
   "metadata": {},
   "source": [
    "### Single Metric Gotchas: Simpoon's paradox\n",
    "https://classroom.udacity.com/courses/ud257/lessons/4085798776/concepts/41091086150923"
   ]
  },
  {
   "cell_type": "markdown",
   "metadata": {},
   "source": [
    "<img src=\"images/lesson5_simposons_paradox_ex.png\">\n"
   ]
  },
  {
   "cell_type": "code",
   "execution_count": 19,
   "metadata": {
    "collapsed": true
   },
   "outputs": [],
   "source": [
    "# row: department A-B, columns men, women\n",
    "applied = np.array([[825, 108],\n",
    "                    [417, 375]])\n",
    "\n",
    "accepted = np.array([[512, 89],\n",
    "                     [137, 132]])"
   ]
  },
  {
   "cell_type": "code",
   "execution_count": 20,
   "metadata": {},
   "outputs": [
    {
     "data": {
      "text/plain": [
       "array([ 0.52254428,  0.45755694])"
      ]
     },
     "execution_count": 20,
     "metadata": {},
     "output_type": "execute_result"
    }
   ],
   "source": [
    "# acceptance rate per sex\n",
    "accepted.sum(axis=0) / applied.sum(axis=0)"
   ]
  },
  {
   "cell_type": "code",
   "execution_count": 21,
   "metadata": {},
   "outputs": [
    {
     "data": {
      "text/plain": [
       "array([ 0.64415863,  0.33964646])"
      ]
     },
     "execution_count": 21,
     "metadata": {},
     "output_type": "execute_result"
    }
   ],
   "source": [
    "# acceptance rate per department\n",
    "accepted.sum(axis=1) / applied.sum(axis=1)"
   ]
  },
  {
   "cell_type": "code",
   "execution_count": 22,
   "metadata": {},
   "outputs": [
    {
     "data": {
      "text/plain": [
       "array([[ 0.62060606,  0.82407407],\n",
       "       [ 0.32853717,  0.352     ]])"
      ]
     },
     "execution_count": 22,
     "metadata": {},
     "output_type": "execute_result"
    }
   ],
   "source": [
    "# acceptance rate per department / sex\n",
    "accepted / applied "
   ]
  },
  {
   "cell_type": "code",
   "execution_count": 23,
   "metadata": {},
   "outputs": [
    {
     "data": {
      "text/plain": [
       "array([[ 0.66425121,  0.22360248],\n",
       "       [ 0.33574879,  0.77639752]])"
      ]
     },
     "execution_count": 23,
     "metadata": {},
     "output_type": "execute_result"
    }
   ],
   "source": [
    "# share of men, women that applied to department a,b\n",
    "applied / applied.sum(axis=0)"
   ]
  },
  {
   "cell_type": "markdown",
   "metadata": {},
   "source": [
    "77% of women applied to department with lower overall acceptance rate (35%)"
   ]
  },
  {
   "cell_type": "markdown",
   "metadata": {},
   "source": [
    "## 2.2 Multiple evaluation metrics\n",
    "\n",
    "Testing more metrics, makes it more likely that one of them will show a statistically significant result by chance.\n",
    "https://en.wikipedia.org/wiki/Multiple_comparisons_problem\n",
    "\n",
    "Two main approaches:\n",
    "* control for familywise error rate\n",
    "* control for false discovery rate"
   ]
  },
  {
   "cell_type": "markdown",
   "metadata": {},
   "source": [
    " probability of at least one metric being statistically significant out of 10 tested at 95%, 99% confidence interval"
   ]
  },
  {
   "cell_type": "code",
   "execution_count": 24,
   "metadata": {
    "scrolled": true
   },
   "outputs": [
    {
     "data": {
      "text/plain": [
       "(0.4012630607616213, 0.09561792499119559)"
      ]
     },
     "execution_count": 24,
     "metadata": {},
     "output_type": "execute_result"
    }
   ],
   "source": [
    "# assuming independence between metrics\n",
    "n = 10 # count null hypotheses\n",
    "alpha1 = 0.95\n",
    "alpha2 = 0.99\n",
    "1 - alpha1**n, 1 - alpha2**n"
   ]
  },
  {
   "cell_type": "markdown",
   "metadata": {},
   "source": [
    "### Control familywise error rate (FWER)\n",
    "https://en.wikipedia.org/wiki/Family-wise_error_rate\n",
    "\n",
    "$\\alpha_{familywise} = 1 - (1-\\alpha_{individual})^m$ \n",
    "\n",
    "without independence assumption:\n",
    "\n",
    "$\\alpha_{familywise} = 1 - m \\cdot \\alpha_{individual}$"
   ]
  },
  {
   "cell_type": "code",
   "execution_count": 25,
   "metadata": {
    "collapsed": true
   },
   "outputs": [],
   "source": [
    "from multitesting_corr import p_multitest"
   ]
  },
  {
   "cell_type": "markdown",
   "metadata": {},
   "source": [
    "### 1. Bonferroni correction \n",
    "https://en.wikipedia.org/wiki/Bonferroni_correction\n",
    "\n",
    "* +simple\n",
    "* +no assumptions\n",
    "* -too conservative if metrics are not independent or there are many experiments => reduces statistical power"
   ]
  },
  {
   "cell_type": "code",
   "execution_count": 26,
   "metadata": {},
   "outputs": [
    {
     "name": "stdout",
     "output_type": "stream",
     "text": [
      "0.05 0.0125\n",
      "1.95996398454 2.49770547441\n"
     ]
    }
   ],
   "source": [
    "# metrics are assumed to be normally distributed\n",
    "d_hat = np.array([0.03, -0.5, 0.01, 10])   # differences b/w test and control for each metric\n",
    "se = np.array([0.013, 0.21, 0.0045, 6.85]) # standard errors\n",
    "\n",
    "alpha_ind = 0.05\n",
    "alpha_bonf = alpha_ind / len(d_hat)\n",
    "z_ind = abs(norm.ppf(alpha_ind / 2)) # critical z-score\n",
    "z_bonf = abs(norm.ppf(alpha_bonf / 2))\n",
    "\n",
    "print(alpha_ind, alpha_bonf)\n",
    "print(z_ind, z_bonf)\n",
    "pvals = norm.pdf(d_hat / se)"
   ]
  },
  {
   "cell_type": "code",
   "execution_count": 27,
   "metadata": {
    "scrolled": true
   },
   "outputs": [
    {
     "data": {
      "text/plain": [
       "array([ True,  True,  True, False], dtype=bool)"
      ]
     },
     "execution_count": 27,
     "metadata": {},
     "output_type": "execute_result"
    }
   ],
   "source": [
    "abs(d_hat / se) > z_ind"
   ]
  },
  {
   "cell_type": "code",
   "execution_count": 28,
   "metadata": {},
   "outputs": [
    {
     "data": {
      "text/plain": [
       "array([False, False, False, False], dtype=bool)"
      ]
     },
     "execution_count": 28,
     "metadata": {},
     "output_type": "execute_result"
    }
   ],
   "source": [
    "abs(d_hat / se) > z_bonf"
   ]
  },
  {
   "cell_type": "code",
   "execution_count": 29,
   "metadata": {},
   "outputs": [
    {
     "data": {
      "text/plain": [
       "{0.02343778879550024: 0.093751155182000959,\n",
       " 0.027829451107324859: 0.11131780442929944,\n",
       " 0.033773651035270635: 0.13509460414108254,\n",
       " 0.13744582971982028: 0.54978331887928111}"
      ]
     },
     "execution_count": 29,
     "metadata": {},
     "output_type": "execute_result"
    }
   ],
   "source": [
    "pvals_bonf = p_multitest(pvals, 'bonferroni')\n",
    "pvals_bonf"
   ]
  },
  {
   "cell_type": "markdown",
   "metadata": {},
   "source": [
    "### 2. Holm-Bonferroni Method\n",
    "https://en.wikipedia.org/wiki/Holm%E2%80%93Bonferroni_method"
   ]
  },
  {
   "cell_type": "code",
   "execution_count": 30,
   "metadata": {},
   "outputs": [],
   "source": [
    "pvals_bonf = p_multitest(pvals, 'bonferroni')\n",
    "pvals_holm = p_multitest(pvals, 'holm')\n",
    "pvals_bonf = pd.DataFrame.from_dict(pvals_bonf, orient='index').sort_index()\n",
    "pvals_holm = pd.DataFrame.from_dict(pvals_holm, orient='index').sort_index()\n",
    "methods_comparis = pd.concat([pvals_bonf, pvals_holm], axis=1)\n",
    "methods_comparis.columns = ['bonferroni', 'holm']"
   ]
  },
  {
   "cell_type": "code",
   "execution_count": 31,
   "metadata": {},
   "outputs": [
    {
     "data": {
      "text/html": [
       "<div>\n",
       "<style>\n",
       "    .dataframe thead tr:only-child th {\n",
       "        text-align: right;\n",
       "    }\n",
       "\n",
       "    .dataframe thead th {\n",
       "        text-align: left;\n",
       "    }\n",
       "\n",
       "    .dataframe tbody tr th {\n",
       "        vertical-align: top;\n",
       "    }\n",
       "</style>\n",
       "<table border=\"1\" class=\"dataframe\">\n",
       "  <thead>\n",
       "    <tr style=\"text-align: right;\">\n",
       "      <th></th>\n",
       "      <th>bonferroni</th>\n",
       "      <th>holm</th>\n",
       "    </tr>\n",
       "  </thead>\n",
       "  <tbody>\n",
       "    <tr>\n",
       "      <th>0.023438</th>\n",
       "      <td>0.093751</td>\n",
       "      <td>0.093751</td>\n",
       "    </tr>\n",
       "    <tr>\n",
       "      <th>0.027829</th>\n",
       "      <td>0.111318</td>\n",
       "      <td>0.093751</td>\n",
       "    </tr>\n",
       "    <tr>\n",
       "      <th>0.033774</th>\n",
       "      <td>0.135095</td>\n",
       "      <td>0.093751</td>\n",
       "    </tr>\n",
       "    <tr>\n",
       "      <th>0.137446</th>\n",
       "      <td>0.549783</td>\n",
       "      <td>0.137446</td>\n",
       "    </tr>\n",
       "  </tbody>\n",
       "</table>\n",
       "</div>"
      ],
      "text/plain": [
       "          bonferroni      holm\n",
       "0.023438    0.093751  0.093751\n",
       "0.027829    0.111318  0.093751\n",
       "0.033774    0.135095  0.093751\n",
       "0.137446    0.549783  0.137446"
      ]
     },
     "execution_count": 31,
     "metadata": {},
     "output_type": "execute_result"
    }
   ],
   "source": [
    "methods_comparis"
   ]
  },
  {
   "cell_type": "code",
   "execution_count": 32,
   "metadata": {},
   "outputs": [
    {
     "data": {
      "image/png": "[encoded data removed]",
      "text/plain": [
       "<matplotlib.figure.Figure at 0x112403240>"
      ]
     },
     "metadata": {},
     "output_type": "display_data"
    }
   ],
   "source": [
    "methods_comparis.plot(marker='o')\n",
    "_ = plt.xlabel('Original p-value')\n",
    "_ = plt.ylabel('Adjusted p-value')"
   ]
  },
  {
   "cell_type": "markdown",
   "metadata": {},
   "source": [
    "Tests\n",
    "http://www-stat.wharton.upenn.edu/~steele/Courses/956/Resource/MultipleComparision/Writght92.pdf"
   ]
  },
  {
   "cell_type": "code",
   "execution_count": 33,
   "metadata": {},
   "outputs": [
    {
     "data": {
      "text/plain": [
       "{0.0050000000000000001: 0.02,\n",
       " 0.01: 0.029999999999999999,\n",
       " 0.029999999999999999: 0.059999999999999998,\n",
       " 0.040000000000000001: 0.059999999999999998}"
      ]
     },
     "execution_count": 33,
     "metadata": {},
     "output_type": "execute_result"
    }
   ],
   "source": [
    "# Test 1\n",
    "test_pvals = np.array([0.01, 0.04, 0.03, 0.005])\n",
    "test_pvals_holm = p_multitest(test_pvals,'holm',0.05)\n",
    "test_pvals_holm"
   ]
  },
  {
   "cell_type": "code",
   "execution_count": 34,
   "metadata": {},
   "outputs": [
    {
     "data": {
      "text/plain": [
       "{0.0029399999999999999: 0.017639999999999999,\n",
       " 0.0066800000000000002: 0.040080000000000005,\n",
       " 0.069400000000000003: 0.41639999999999999,\n",
       " 0.13902999999999999: 0.83417999999999992,\n",
       " 0.70221999999999996: 1}"
      ]
     },
     "execution_count": 34,
     "metadata": {},
     "output_type": "execute_result"
    }
   ],
   "source": [
    "### Test 2\n",
    "test_pvals = np.array([0.00294, 0.00668, 0.06940, 0.13903, 0.13903, 0.70222])\n",
    "test_pvals_bonf = p_multitest(test_pvals,'bonferroni',0.05)\n",
    "test_pvals_bonf"
   ]
  },
  {
   "cell_type": "code",
   "execution_count": 35,
   "metadata": {
    "scrolled": true
   },
   "outputs": [
    {
     "data": {
      "text/plain": [
       "{0.0029399999999999999: 0.017639999999999999,\n",
       " 0.0066800000000000002: 0.033399999999999999,\n",
       " 0.069400000000000003: 0.27760000000000001,\n",
       " 0.13902999999999999: 0.41708999999999996,\n",
       " 0.70221999999999996: 0.70221999999999996}"
      ]
     },
     "execution_count": 35,
     "metadata": {},
     "output_type": "execute_result"
    }
   ],
   "source": [
    "### Test 2\n",
    "test_pvals_holm = p_multitest(test_pvals,'holm',0.05)\n",
    "test_pvals_holm"
   ]
  },
  {
   "cell_type": "code",
   "execution_count": 36,
   "metadata": {
    "collapsed": true
   },
   "outputs": [],
   "source": [
    "pvals_bonf = pd.DataFrame.from_dict(test_pvals_bonf, orient='index').sort_index()\n",
    "pvals_holm = pd.DataFrame.from_dict(test_pvals_holm, orient='index').sort_index()\n",
    "methods_comparis = pd.concat([pvals_bonf, pvals_holm], axis=1)\n",
    "methods_comparis.columns = ['bonferroni', 'holm']"
   ]
  },
  {
   "cell_type": "code",
   "execution_count": 37,
   "metadata": {
    "scrolled": false
   },
   "outputs": [
    {
     "data": {
      "image/png": "[encoded data removed]",
      "text/plain": [
       "<matplotlib.figure.Figure at 0x1125c7128>"
      ]
     },
     "metadata": {},
     "output_type": "display_data"
    }
   ],
   "source": [
    "methods_comparis.plot(marker='o')\n",
    "_ = plt.xlabel('Original p-value')\n",
    "_ = plt.ylabel('Adjusted p-value')"
   ]
  },
  {
   "cell_type": "markdown",
   "metadata": {},
   "source": [
    "### 3. Resampling procedures"
   ]
  },
  {
   "cell_type": "markdown",
   "metadata": {},
   "source": [
    "### Control False Discovery Rate"
   ]
  }
 ],
 "metadata": {
  "kernelspec": {
   "display_name": "Python 3",
   "language": "python",
   "name": "python3"
  },
  "language_info": {
   "codemirror_mode": {
    "name": "ipython",
    "version": 3
   },
   "file_extension": ".py",
   "mimetype": "text/x-python",
   "name": "python",
   "nbconvert_exporter": "python",
   "pygments_lexer": "ipython3",
   "version": "3.6.2"
  }
 },
 "nbformat": 4,
 "nbformat_minor": 2
}
