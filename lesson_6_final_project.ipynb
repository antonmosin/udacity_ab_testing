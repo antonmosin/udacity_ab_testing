{
 "cells": [
  {
   "cell_type": "markdown",
   "metadata": {},
   "source": [
    "# Final project"
   ]
  },
  {
   "cell_type": "code",
   "execution_count": 1,
   "metadata": {
    "collapsed": true
   },
   "outputs": [],
   "source": [
    "%matplotlib inline\n",
    "\n",
    "import numpy as np\n",
    "import pandas as pd\n",
    "import scipy.stats as st\n",
    "\n",
    "import matplotlib.pyplot as plt\n",
    "from matplotlib.pylab import rcParams\n",
    "\n",
    "rcParams['figure.figsize'] = (10, 6)"
   ]
  },
  {
   "cell_type": "markdown",
   "metadata": {
    "collapsed": true
   },
   "source": [
    "** Experiment Overview: Free Trial Screener** \n",
    "\n",
    "At the time of this experiment, Udacity courses currently have two options on the course overview page: \"start free trial\", and \"access course materials\". If the student clicks \"start free trial\", they will be asked to enter their credit card information, and then they will be enrolled in a free trial for the paid version of the course. After 14 days, they will automatically be charged unless they cancel first. If the student clicks \"access course materials\", they will be able to view the videos and take the quizzes for free, but they will not receive coaching support or a verified certificate, and they will not submit their final project for feedback.\n",
    "\n",
    "In the experiment, Udacity tested a change where if the student clicked \"start free trial\", they were asked how much time they had available to devote to the course. If the student indicated 5 or more hours per week, they would be taken through the checkout process as usual. If they indicated fewer than 5 hours per week, a message would appear indicating that Udacity courses usually require a greater time commitment for successful completion, and suggesting that the student might like to access the course materials for free. At this point, the student would have the option to continue enrolling in the free trial, or access the course materials for free instead. This screenshot shows what the experiment looks like.\n",
    "\n",
    "The hypothesis was that this might set clearer expectations for students upfront, thus reducing the number of frustrated students who left the free trial because they didn't have enough time—without significantly reducing the number of students to continue past the free trial and eventually complete the course. If this hypothesis held true, Udacity could improve the overall student experience and improve coaches' capacity to support students who are likely to complete the course.\n",
    "\n",
    "The unit of diversion is a cookie, although if the student enrolls in the free trial, they are tracked by user-id from that point forward. The same user-id cannot enroll in the free trial twice. For users that do not enroll, their user-id is not tracked in the experiment, even if they were signed in when they visited the course overview page."
   ]
  },
  {
   "cell_type": "markdown",
   "metadata": {},
   "source": [
    "## Step 1: Choosing evaluation and invariant metrics"
   ]
  },
  {
   "cell_type": "markdown",
   "metadata": {},
   "source": [
    "Metric Choice\n",
    "\n",
    "Which of the following metrics would you choose to measure for this experiment and why? For each metric you choose, indicate whether you would use it as an invariant metric or an evaluation metric. The practical significance boundary for each metric, that is, the difference that would have to be observed before that was a meaningful change for the business, is given in parentheses. All practical significance boundaries are given as absolute changes.\n",
    "\n",
    "Any place \"unique cookies\" are mentioned, the uniqueness is determined by day. (That is, the same cookie visiting on different days would be counted twice.) User-ids are automatically unique since the site does not allow the same user-id to enroll twice.\n",
    "\n",
    "    Number of cookies: That is, number of unique cookies to view the course overview page. (dmin=3000)\n",
    "    \n",
    "    Number of user-ids: That is, number of users who enroll in the free trial. (dmin=50)\n",
    "    \n",
    "    Number of clicks: That is, number of unique cookies to click the \"Start free trial\" button (which happens before the free trial screener is trigger). (dmin=240)\n",
    "    \n",
    "    Click-through-probability: That is, number of unique cookies to click the \"Start free trial\" button divided by number of unique cookies to view the course overview page. (dmin=0.01)\n",
    "    \n",
    "    Gross conversion: That is, number of user-ids to complete checkout and enroll in the free trial divided by number of unique cookies to click the \"Start free trial\" button. (dmin= 0.01)\n",
    "    \n",
    "    Retention: That is, number of user-ids to remain enrolled past the 14-day boundary (and thus make at least one payment) divided by number of user-ids to complete checkout. (dmin=0.01)\n",
    "    \n",
    "    Net conversion: That is, number of user-ids to remain enrolled past the 14-day boundary (and thus make at least one payment) divided by the number of unique cookies to click the \"Start free trial\" button. (dmin= 0.0075)\n",
    "\n",
    "You should also decide now what results you will be looking for in order to launch the experiment. Would a change in any one of your evaluation metrics be sufficient? Would you want to see multiple metrics all move or not move at the same time in order to launch? This decision will inform your choices while designing the experiment."
   ]
  },
  {
   "cell_type": "markdown",
   "metadata": {},
   "source": [
    "### Answer\n",
    "\n",
    "Hypothesis behind the experiment is that by setting user expectations up-front, Udacity will reduce number of users who left free trial because of frustration without significantly affecting number of people who continue past free trial and complete the course. \n",
    "\n",
    "\n",
    "** Evaluation metrics**\n",
    "* Retention - That is, number of user-ids to remain enrolled past the 14-day boundary (and thus make at least one payment) divided by number of user-ids to complete checkout. (dmin=0.01) Under test hypothesis retention should improve since we’ll prevent users from registering who do not have minimum weekly time budget to allocate towards the course.\n",
    "* Net conversion - That is, number of user-ids to remain enrolled past the 14-day boundary (and thus make at least one payment) divided by the number of unique cookies to click the \"Start free trial\" button. (dmin= 0.0075) it should stay stable or improve because of all visitors clicked on start free trial button, more people may continue to pay. It may decrease if click-to-checkout falls significantly.\n",
    "\n",
    "\n",
    "**Invariant metrics**\n",
    "* Number of cookies: That is, number of unique cookies to view the course overview page. (dmin=3000) - Should not be affected.\n",
    "* Number of clicks: That is, number of unique cookies to click the \"Start free trial\" button (which happens before the free trial screener is trigger). (dmin=240)  - Should not be affected.\n",
    "* Click-through-probability: That is, number of unique cookies to click the \"Start free trial\" button divided by number of unique cookies to view the course overview page. (dmin=0.01) - Should not be affected.\n",
    "\n",
    "**Experiment success: retention rate is larger by at least 0.01 p.p, while net conversion rate is not lower than 0.0075 p.p.**\n",
    "\n",
    "However, if gross conversion drops by more than 0.0075 p.p. because of too many people decide not to enroll at all while retention rate improved in practical terms, another experiment should be launched that would try address the gross conversion rate."
   ]
  },
  {
   "cell_type": "markdown",
   "metadata": {},
   "source": [
    "### Step 2: Calculate standard deviation of evaluation metrics assuming 5000 cookies visiting course overview page per day\n",
    "    **Baseline values**\n",
    "    Unique cookies to view course overview page per day:\t40000\n",
    "    Unique cookies to click \"Start free trial\" per day:\t3200\n",
    "    Enrollments per day:\t660\n",
    "    Click-through-probability on \"Start free trial\":\t0.08\n",
    "    Probability of enrolling, given click:\t0.20625\n",
    "    Probability of payment, given enroll:\t0.53  <-- retention rate\n",
    "    Probability of payment, given click\t0.1093125 <-- net conversion rate\n",
    "\n",
    "\n",
    "https://docs.google.com/spreadsheets/d/1MYNUtC47Pg8hdoCjOXaHqF-thheGpUshrFA21BAJnNc/edit#gid=0"
   ]
  },
  {
   "cell_type": "code",
   "execution_count": 2,
   "metadata": {
    "collapsed": true
   },
   "outputs": [],
   "source": [
    "# per day\n",
    "n_visit_cookies = 40000 \n",
    "n_enrolls = 660\n",
    "baseline_enrollment_rate = n_enrolls / n_visit_cookies\n",
    "\n",
    "baseline_ctr = 0.08\n",
    "baseline_retention = 0.53\n",
    "baseine_net_conversion = 0.1093125"
   ]
  },
  {
   "cell_type": "code",
   "execution_count": 3,
   "metadata": {},
   "outputs": [
    {
     "data": {
      "text/plain": [
       "(400.0, 82.5)"
      ]
     },
     "execution_count": 3,
     "metadata": {},
     "output_type": "execute_result"
    }
   ],
   "source": [
    "n_visit_cookies_experim = 5000 # given\n",
    "n_experim_enrolls = n_visit_cookies_experim * baseline_enrollment_rate\n",
    "n_experim_clicks = n_visit_cookies_experim * baseline_ctr\n",
    "n_experim_clicks, n_experim_enrolls"
   ]
  },
  {
   "cell_type": "code",
   "execution_count": 4,
   "metadata": {},
   "outputs": [
    {
     "data": {
      "text/plain": [
       "(0.054949012178509081, 0.01560154458248846)"
      ]
     },
     "execution_count": 4,
     "metadata": {},
     "output_type": "execute_result"
    }
   ],
   "source": [
    "# https://en.wikipedia.org/wiki/Binomial_proportion_confidence_interval\n",
    "def binom_prop_variance(n, p):\n",
    "    return p * (1 - p) / n    \n",
    "\n",
    "sd_retention = np.sqrt(binom_prop_variance(n_experim_enrolls, baseline_retention))\n",
    "sd_net_conversion = np.sqrt(binom_prop_variance(n_experim_clicks, baseine_net_conversion))\n",
    "sd_retention, sd_net_conversion"
   ]
  }
 ],
 "metadata": {
  "kernelspec": {
   "display_name": "Python 3",
   "language": "python",
   "name": "python3"
  },
  "language_info": {
   "codemirror_mode": {
    "name": "ipython",
    "version": 3
   },
   "file_extension": ".py",
   "mimetype": "text/x-python",
   "name": "python",
   "nbconvert_exporter": "python",
   "pygments_lexer": "ipython3",
   "version": "3.6.2"
  }
 },
 "nbformat": 4,
 "nbformat_minor": 2
}
