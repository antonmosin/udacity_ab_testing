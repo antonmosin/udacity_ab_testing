{
 "cells": [
  {
   "cell_type": "markdown",
   "metadata": {},
   "source": [
    "# Final project"
   ]
  },
  {
   "cell_type": "code",
   "execution_count": 1,
   "metadata": {
    "collapsed": true
   },
   "outputs": [],
   "source": [
    "%matplotlib inline\n",
    "\n",
    "import numpy as np\n",
    "import pandas as pd\n",
    "import scipy.stats as st\n",
    "\n",
    "import matplotlib.pyplot as plt\n",
    "from matplotlib.pylab import rcParams\n",
    "\n",
    "rcParams['figure.figsize'] = (10, 6)"
   ]
  },
  {
   "cell_type": "markdown",
   "metadata": {
    "collapsed": true
   },
   "source": [
    "** Experiment Overview: Free Trial Screener** \n",
    "\n",
    "At the time of this experiment, Udacity courses currently have two options on the course overview page: \"start free trial\", and \"access course materials\". If the student clicks \"start free trial\", they will be asked to enter their credit card information, and then they will be enrolled in a free trial for the paid version of the course. After 14 days, they will automatically be charged unless they cancel first. If the student clicks \"access course materials\", they will be able to view the videos and take the quizzes for free, but they will not receive coaching support or a verified certificate, and they will not submit their final project for feedback.\n",
    "\n",
    "In the experiment, Udacity tested a change where if the student clicked \"start free trial\", they were asked how much time they had available to devote to the course. If the student indicated 5 or more hours per week, they would be taken through the checkout process as usual. If they indicated fewer than 5 hours per week, a message would appear indicating that Udacity courses usually require a greater time commitment for successful completion, and suggesting that the student might like to access the course materials for free. At this point, the student would have the option to continue enrolling in the free trial, or access the course materials for free instead. This screenshot shows what the experiment looks like.\n",
    "\n",
    "The hypothesis was that this might set clearer expectations for students upfront, thus reducing the number of frustrated students who left the free trial because they didn't have enough time—without significantly reducing the number of students to continue past the free trial and eventually complete the course. If this hypothesis held true, Udacity could improve the overall student experience and improve coaches' capacity to support students who are likely to complete the course.\n",
    "\n",
    "The unit of diversion is a cookie, although if the student enrolls in the free trial, they are tracked by user-id from that point forward. The same user-id cannot enroll in the free trial twice. For users that do not enroll, their user-id is not tracked in the experiment, even if they were signed in when they visited the course overview page."
   ]
  },
  {
   "cell_type": "markdown",
   "metadata": {},
   "source": [
    "## Step 1: Choosing evaluation and invariant metrics"
   ]
  },
  {
   "cell_type": "markdown",
   "metadata": {},
   "source": [
    "Metric Choice\n",
    "\n",
    "Which of the following metrics would you choose to measure for this experiment and why? For each metric you choose, indicate whether you would use it as an invariant metric or an evaluation metric. The practical significance boundary for each metric, that is, the difference that would have to be observed before that was a meaningful change for the business, is given in parentheses. All practical significance boundaries are given as absolute changes.\n",
    "\n",
    "Any place \"unique cookies\" are mentioned, the uniqueness is determined by day. (That is, the same cookie visiting on different days would be counted twice.) User-ids are automatically unique since the site does not allow the same user-id to enroll twice.\n",
    "\n",
    "    Number of cookies: That is, number of unique cookies to view the course overview page. (dmin=3000)\n",
    "    \n",
    "    Number of user-ids: That is, number of users who enroll in the free trial. (dmin=50)\n",
    "    \n",
    "    Number of clicks: That is, number of unique cookies to click the \"Start free trial\" button (which happens before the free trial screener is trigger). (dmin=240)\n",
    "    \n",
    "    Click-through-probability: That is, number of unique cookies to click the \"Start free trial\" button divided by number of unique cookies to view the course overview page. (dmin=0.01)\n",
    "    \n",
    "    Gross conversion: That is, number of user-ids to complete checkout and enroll in the free trial divided by number of unique cookies to click the \"Start free trial\" button. (dmin= 0.01)\n",
    "    \n",
    "    Retention: That is, number of user-ids to remain enrolled past the 14-day boundary (and thus make at least one payment) divided by number of user-ids to complete checkout. (dmin=0.01)\n",
    "    \n",
    "    Net conversion: That is, number of user-ids to remain enrolled past the 14-day boundary (and thus make at least one payment) divided by the number of unique cookies to click the \"Start free trial\" button. (dmin= 0.0075)\n",
    "\n",
    "You should also decide now what results you will be looking for in order to launch the experiment. Would a change in any one of your evaluation metrics be sufficient? Would you want to see multiple metrics all move or not move at the same time in order to launch? This decision will inform your choices while designing the experiment."
   ]
  },
  {
   "cell_type": "markdown",
   "metadata": {},
   "source": [
    "### Answer\n",
    "\n",
    "Hypothesis behind the experiment is that by setting user expectations up-front, Udacity will reduce number of users who left free trial because of frustration without significantly affecting number of people who continue past free trial and complete the course. \n",
    "\n",
    "\n",
    "** Evaluation metrics**\n",
    "* Retention - Under test hypothesis retention should improve since we’ll prevent users from registering who do not have minimum weekly time budget to allocate towards the course.\n",
    "* Net conversion - It should stay stable or improve because of all visitors clicked on start free trial button, more people may continue to pay. It may decrease if click-to-checkout falls significantly.\n",
    "\n",
    "\n",
    "**Invariant metrics**\n",
    "* Number of cookies: That is, number of unique cookies to view the course overview page. (dmin=3000) - Should not be affected.\n",
    "* Number of clicks: That is, number of unique cookies to click the \"Start free trial\" button (which happens before the free trial screener is trigger). (dmin=240)  - Should not be affected.\n",
    "* Click-through-probability: That is, number of unique cookies to click the \"Start free trial\" button divided by number of unique cookies to view the course overview page. (dmin=0.01) - Should not be affected.\n",
    "\n",
    "**Experiment success: retention rate is larger by at least 0.01 p.p, while net conversion rate is not lower than 0.0075 p.p.**\n",
    "\n",
    "However, if gross conversion drops by more than 0.0075 p.p. because of too many people decide not to enroll at all while retention rate improved in practical terms, another experiment should be launched that would try address the gross conversion rate."
   ]
  },
  {
   "cell_type": "markdown",
   "metadata": {},
   "source": [
    "### Step 2: Calculate standard deviation of evaluation metrics assuming 5000 pageviews  per day\n",
    "    **Baseline values**\n",
    "    Unique cookies to view course overview page per day:\t40000\n",
    "    Unique cookies to click \"Start free trial\" per day:\t3200\n",
    "    Enrollments per day:\t660\n",
    "    Click-through-probability on \"Start free trial\":\t0.08\n",
    "    Probability of enrolling, given click:\t0.20625\n",
    "    Probability of payment, given enroll:\t0.53  <-- retention rate\n",
    "    Probability of payment, given click\t0.1093125 <-- net conversion rate\n",
    "\n",
    "\n",
    "https://docs.google.com/spreadsheets/d/1MYNUtC47Pg8hdoCjOXaHqF-thheGpUshrFA21BAJnNc/edit#gid=0"
   ]
  },
  {
   "cell_type": "code",
   "execution_count": 2,
   "metadata": {
    "collapsed": true
   },
   "outputs": [],
   "source": [
    "# per day\n",
    "n_visit_cookies = 40000\n",
    "n_clicks_to_start = 3200\n",
    "n_enrolls = 660\n",
    "baseline_enrollment_rate = n_enrolls / n_visit_cookies\n",
    "baseline_gross_conversion = n_enrolls / n_clicks_to_start\n",
    "\n",
    "baseline_ctr = n_clicks_to_start / n_visit_cookies\n",
    "baseline_retention = 0.53\n",
    "baseline_net_conversion = 0.1093125"
   ]
  },
  {
   "cell_type": "code",
   "execution_count": 3,
   "metadata": {},
   "outputs": [
    {
     "data": {
      "text/plain": [
       "0.1093125"
      ]
     },
     "execution_count": 3,
     "metadata": {},
     "output_type": "execute_result"
    }
   ],
   "source": [
    "baseline_net_conversion"
   ]
  },
  {
   "cell_type": "code",
   "execution_count": 4,
   "metadata": {},
   "outputs": [
    {
     "data": {
      "text/plain": [
       "0.20625"
      ]
     },
     "execution_count": 4,
     "metadata": {},
     "output_type": "execute_result"
    }
   ],
   "source": [
    "baseline_gross_conversion"
   ]
  },
  {
   "cell_type": "code",
   "execution_count": 5,
   "metadata": {},
   "outputs": [
    {
     "data": {
      "text/plain": [
       "0.08"
      ]
     },
     "execution_count": 5,
     "metadata": {},
     "output_type": "execute_result"
    }
   ],
   "source": [
    "baseline_ctr"
   ]
  },
  {
   "cell_type": "code",
   "execution_count": 6,
   "metadata": {
    "scrolled": true
   },
   "outputs": [
    {
     "data": {
      "text/plain": [
       "(400.0, 82.5)"
      ]
     },
     "execution_count": 6,
     "metadata": {},
     "output_type": "execute_result"
    }
   ],
   "source": [
    "n_visit_cookies_experim = 5000 # given\n",
    "n_experim_enrolls = n_visit_cookies_experim * baseline_enrollment_rate\n",
    "n_experim_clicks = n_visit_cookies_experim * baseline_ctr\n",
    "n_experim_clicks, n_experim_enrolls"
   ]
  },
  {
   "cell_type": "code",
   "execution_count": 7,
   "metadata": {
    "scrolled": false
   },
   "outputs": [
    {
     "data": {
      "text/plain": [
       "(0.054949012178509081, 0.020230604137049392, 0.01560154458248846)"
      ]
     },
     "execution_count": 7,
     "metadata": {},
     "output_type": "execute_result"
    }
   ],
   "source": [
    "# https://en.wikipedia.org/wiki/Binomial_proportion_confidence_interval\n",
    "def binom_prop_variance(n, p):\n",
    "    return p * (1 - p) / n \n",
    "\n",
    "sd_retention = np.sqrt(binom_prop_variance(n_experim_enrolls, baseline_retention))\n",
    "sd_gross_conversion = np.sqrt(binom_prop_variance(n_experim_clicks, baseline_gross_conversion))\n",
    "sd_net_conversion = np.sqrt(binom_prop_variance(n_experim_clicks, baseline_net_conversion))\n",
    "sd_retention, sd_gross_conversion, sd_net_conversion"
   ]
  },
  {
   "cell_type": "markdown",
   "metadata": {},
   "source": [
    "### Step 3: Calculate number of pageviews"
   ]
  },
  {
   "cell_type": "markdown",
   "metadata": {},
   "source": [
    "WARNING: twisted definition of pageview:\n",
    "        \n",
    "        Pageviews: Number of unique cookies to view the course overview page that day."
   ]
  },
  {
   "cell_type": "code",
   "execution_count": 8,
   "metadata": {
    "collapsed": true
   },
   "outputs": [],
   "source": [
    "alpha = 0.05 \n",
    "beta = 0.2\n",
    "\n",
    "d_min_retention = 0.01\n",
    "d_min_net_conversion  = 0.0075\n",
    "d_min_gross_conversion = 0.01"
   ]
  },
  {
   "cell_type": "code",
   "execution_count": 9,
   "metadata": {
    "scrolled": true
   },
   "outputs": [
    {
     "data": {
      "text/plain": [
       "(0.53, 0.1093125, 0.20625)"
      ]
     },
     "execution_count": 9,
     "metadata": {},
     "output_type": "execute_result"
    }
   ],
   "source": [
    "baseline_retention, baseline_net_conversion, baseline_gross_conversion"
   ]
  },
  {
   "cell_type": "code",
   "execution_count": 10,
   "metadata": {},
   "outputs": [
    {
     "data": {
      "text/plain": [
       "(0.01, 0.0075, 0.01)"
      ]
     },
     "execution_count": 10,
     "metadata": {},
     "output_type": "execute_result"
    }
   ],
   "source": [
    "d_min_retention, d_min_net_conversion, d_min_gross_conversion"
   ]
  },
  {
   "cell_type": "code",
   "execution_count": 11,
   "metadata": {},
   "outputs": [
    {
     "data": {
      "text/plain": [
       "(0.054949012178509081, 0.01560154458248846, 0.020230604137049392)"
      ]
     },
     "execution_count": 11,
     "metadata": {},
     "output_type": "execute_result"
    }
   ],
   "source": [
    "sd_retention, sd_net_conversion, sd_gross_conversion"
   ]
  },
  {
   "cell_type": "code",
   "execution_count": 12,
   "metadata": {},
   "outputs": [
    {
     "name": "stdout",
     "output_type": "stream",
     "text": [
      "Unique daily cookies: 645875, duration (days): 17.0\n"
     ]
    }
   ],
   "source": [
    "# based on net conversion rate\n",
    "group_size_clicks = 25835 # https://www.evanmiller.org/ab-testing/sample-size.html#!10.93;80;5;0.75;0\n",
    "total_cookies_net_conv = round(2 * group_size_clicks / baseline_ctr)\n",
    "duration_days_net_conv = total_cookies_net_conv / n_visit_cookies\n",
    "print(f'Unique daily cookies: {total_cookies_net_conv}, duration (days): {np.ceil(duration_days_net_conv)}')"
   ]
  },
  {
   "cell_type": "code",
   "execution_count": 13,
   "metadata": {},
   "outputs": [
    {
     "name": "stdout",
     "output_type": "stream",
     "text": [
      "Unique daily cookies: 685275, duration (days): 18.0\n"
     ]
    }
   ],
   "source": [
    "# based on gross conversion rate\n",
    "group_size_clicks = 27411 # https://www.evanmiller.org/ab-testing/sample-size.html#!20.625;80;5;1;0\n",
    "total_cookies_gross_conv = round(2 * group_size_clicks / baseline_ctr)\n",
    "duration_days_gross_conv = total_cookies_gross_conv / n_visit_cookies\n",
    "print(f'Unique daily cookies: {total_cookies_gross_conv}, duration (days): {np.ceil(duration_days_gross_conv)}')"
   ]
  },
  {
   "cell_type": "code",
   "execution_count": 14,
   "metadata": {},
   "outputs": [
    {
     "name": "stdout",
     "output_type": "stream",
     "text": [
      "Unique daily cookies: 4741212, duration (days): 119.0\n"
     ]
    }
   ],
   "source": [
    "# based on retenion\n",
    "group_size_enrolls = 39115 # https://www.evanmiller.org/ab-testing/sample-size.html#!53;80;5;1;0\n",
    "total_cookies = round(2 * group_size_enrolls / baseline_enrollment_rate)\n",
    "duration_days = total_cookies / n_visit_cookies\n",
    "print(f'Unique daily cookies: {total_cookies}, duration (days): {np.ceil(duration_days)}')"
   ]
  },
  {
   "cell_type": "markdown",
   "metadata": {},
   "source": [
    "Has to dump retention as evaluation metric and replace it with gross conversion rate because of long duration."
   ]
  },
  {
   "cell_type": "markdown",
   "metadata": {},
   "source": [
    "### Step 4: Choose duration and exposure"
   ]
  },
  {
   "cell_type": "code",
   "execution_count": 15,
   "metadata": {
    "scrolled": false
   },
   "outputs": [
    {
     "data": {
      "text/plain": [
       "685275"
      ]
     },
     "execution_count": 15,
     "metadata": {},
     "output_type": "execute_result"
    }
   ],
   "source": [
    "exposure = 0.5 # 50% of traffic diverted to experiment\n",
    "total_cookies = max(total_cookies_gross_conv, total_cookies_net_conv) \n",
    "total_cookies"
   ]
  },
  {
   "cell_type": "code",
   "execution_count": 16,
   "metadata": {
    "scrolled": false
   },
   "outputs": [
    {
     "data": {
      "text/plain": [
       "35.0"
      ]
     },
     "execution_count": 16,
     "metadata": {},
     "output_type": "execute_result"
    }
   ],
   "source": [
    "np.ceil(total_cookies_gross_conv  / n_visit_cookies / exposure)"
   ]
  },
  {
   "cell_type": "markdown",
   "metadata": {},
   "source": [
    "### Step 5: Sanity checks"
   ]
  },
  {
   "cell_type": "code",
   "execution_count": 17,
   "metadata": {
    "scrolled": true
   },
   "outputs": [],
   "source": [
    "control = pd.read_csv('data/control.csv')\n",
    "test = pd.read_csv('data/test.csv')"
   ]
  },
  {
   "cell_type": "code",
   "execution_count": 18,
   "metadata": {},
   "outputs": [
    {
     "data": {
      "text/html": [
       "<div>\n",
       "<style>\n",
       "    .dataframe thead tr:only-child th {\n",
       "        text-align: right;\n",
       "    }\n",
       "\n",
       "    .dataframe thead th {\n",
       "        text-align: left;\n",
       "    }\n",
       "\n",
       "    .dataframe tbody tr th {\n",
       "        vertical-align: top;\n",
       "    }\n",
       "</style>\n",
       "<table border=\"1\" class=\"dataframe\">\n",
       "  <thead>\n",
       "    <tr style=\"text-align: right;\">\n",
       "      <th></th>\n",
       "      <th>Date</th>\n",
       "      <th>Pageviews</th>\n",
       "      <th>Clicks</th>\n",
       "      <th>Enrollments</th>\n",
       "      <th>Payments</th>\n",
       "    </tr>\n",
       "  </thead>\n",
       "  <tbody>\n",
       "    <tr>\n",
       "      <th>0</th>\n",
       "      <td>Sat, Oct 11</td>\n",
       "      <td>7723</td>\n",
       "      <td>687</td>\n",
       "      <td>134.0</td>\n",
       "      <td>70.0</td>\n",
       "    </tr>\n",
       "    <tr>\n",
       "      <th>1</th>\n",
       "      <td>Sun, Oct 12</td>\n",
       "      <td>9102</td>\n",
       "      <td>779</td>\n",
       "      <td>147.0</td>\n",
       "      <td>70.0</td>\n",
       "    </tr>\n",
       "    <tr>\n",
       "      <th>2</th>\n",
       "      <td>Mon, Oct 13</td>\n",
       "      <td>10511</td>\n",
       "      <td>909</td>\n",
       "      <td>167.0</td>\n",
       "      <td>95.0</td>\n",
       "    </tr>\n",
       "    <tr>\n",
       "      <th>3</th>\n",
       "      <td>Tue, Oct 14</td>\n",
       "      <td>9871</td>\n",
       "      <td>836</td>\n",
       "      <td>156.0</td>\n",
       "      <td>105.0</td>\n",
       "    </tr>\n",
       "    <tr>\n",
       "      <th>4</th>\n",
       "      <td>Wed, Oct 15</td>\n",
       "      <td>10014</td>\n",
       "      <td>837</td>\n",
       "      <td>163.0</td>\n",
       "      <td>64.0</td>\n",
       "    </tr>\n",
       "  </tbody>\n",
       "</table>\n",
       "</div>"
      ],
      "text/plain": [
       "          Date  Pageviews  Clicks  Enrollments  Payments\n",
       "0  Sat, Oct 11       7723     687        134.0      70.0\n",
       "1  Sun, Oct 12       9102     779        147.0      70.0\n",
       "2  Mon, Oct 13      10511     909        167.0      95.0\n",
       "3  Tue, Oct 14       9871     836        156.0     105.0\n",
       "4  Wed, Oct 15      10014     837        163.0      64.0"
      ]
     },
     "execution_count": 18,
     "metadata": {},
     "output_type": "execute_result"
    }
   ],
   "source": [
    "control.head()"
   ]
  },
  {
   "cell_type": "code",
   "execution_count": 19,
   "metadata": {},
   "outputs": [
    {
     "data": {
      "text/html": [
       "<div>\n",
       "<style>\n",
       "    .dataframe thead tr:only-child th {\n",
       "        text-align: right;\n",
       "    }\n",
       "\n",
       "    .dataframe thead th {\n",
       "        text-align: left;\n",
       "    }\n",
       "\n",
       "    .dataframe tbody tr th {\n",
       "        vertical-align: top;\n",
       "    }\n",
       "</style>\n",
       "<table border=\"1\" class=\"dataframe\">\n",
       "  <thead>\n",
       "    <tr style=\"text-align: right;\">\n",
       "      <th></th>\n",
       "      <th>Date</th>\n",
       "      <th>Pageviews</th>\n",
       "      <th>Clicks</th>\n",
       "      <th>Enrollments</th>\n",
       "      <th>Payments</th>\n",
       "    </tr>\n",
       "  </thead>\n",
       "  <tbody>\n",
       "    <tr>\n",
       "      <th>0</th>\n",
       "      <td>Sat, Oct 11</td>\n",
       "      <td>7716</td>\n",
       "      <td>686</td>\n",
       "      <td>105.0</td>\n",
       "      <td>34.0</td>\n",
       "    </tr>\n",
       "    <tr>\n",
       "      <th>1</th>\n",
       "      <td>Sun, Oct 12</td>\n",
       "      <td>9288</td>\n",
       "      <td>785</td>\n",
       "      <td>116.0</td>\n",
       "      <td>91.0</td>\n",
       "    </tr>\n",
       "    <tr>\n",
       "      <th>2</th>\n",
       "      <td>Mon, Oct 13</td>\n",
       "      <td>10480</td>\n",
       "      <td>884</td>\n",
       "      <td>145.0</td>\n",
       "      <td>79.0</td>\n",
       "    </tr>\n",
       "    <tr>\n",
       "      <th>3</th>\n",
       "      <td>Tue, Oct 14</td>\n",
       "      <td>9867</td>\n",
       "      <td>827</td>\n",
       "      <td>138.0</td>\n",
       "      <td>92.0</td>\n",
       "    </tr>\n",
       "    <tr>\n",
       "      <th>4</th>\n",
       "      <td>Wed, Oct 15</td>\n",
       "      <td>9793</td>\n",
       "      <td>832</td>\n",
       "      <td>140.0</td>\n",
       "      <td>94.0</td>\n",
       "    </tr>\n",
       "  </tbody>\n",
       "</table>\n",
       "</div>"
      ],
      "text/plain": [
       "          Date  Pageviews  Clicks  Enrollments  Payments\n",
       "0  Sat, Oct 11       7716     686        105.0      34.0\n",
       "1  Sun, Oct 12       9288     785        116.0      91.0\n",
       "2  Mon, Oct 13      10480     884        145.0      79.0\n",
       "3  Tue, Oct 14       9867     827        138.0      92.0\n",
       "4  Wed, Oct 15       9793     832        140.0      94.0"
      ]
     },
     "execution_count": 19,
     "metadata": {},
     "output_type": "execute_result"
    }
   ],
   "source": [
    "test.head()"
   ]
  },
  {
   "cell_type": "code",
   "execution_count": 20,
   "metadata": {
    "collapsed": true
   },
   "outputs": [],
   "source": [
    "pageviews_total = control.Pageviews.add(test.Pageviews)\n",
    "clicks_total = control.Clicks.add(test.Clicks)\n",
    "binom_test_vect = np.vectorize(st.binom_test)\n",
    "\n",
    "pvals_pageviews_prop = binom_test_vect(x=control.Pageviews, n=pageviews_total, p=0.5)\n",
    "pvals_clicks_prop = binom_test_vect(x=control.Clicks, n=clicks_total, p=0.5)"
   ]
  },
  {
   "cell_type": "code",
   "execution_count": 21,
   "metadata": {
    "scrolled": true
   },
   "outputs": [
    {
     "data": {
      "image/png": "[encoded data removed]",
      "text/plain": [
       "<matplotlib.figure.Figure at 0x1a0bba6c18>"
      ]
     },
     "metadata": {},
     "output_type": "display_data"
    }
   ],
   "source": [
    "fig = plt.figure(figsize=(12 ,5))\n",
    "\n",
    "fig.add_subplot(121)\n",
    "control.Pageviews.plot()\n",
    "_ = plt.fill_between(y1=st.binom.ppf(q=0.975, p=0.5, n=pageviews_total),\n",
    "                     y2=st.binom.ppf(q=0.025, p=0.5, n=pageviews_total),\n",
    "                     x=control.index, alpha=0.2, color='red')\n",
    "_ = plt.title('Pageviews')\n",
    "\n",
    "fig.add_subplot(122)\n",
    "control.Clicks.plot()\n",
    "_ = plt.fill_between(y1=st.binom.ppf(q=0.975, p=0.5, n=clicks_total),\n",
    "                     y2=st.binom.ppf(q=0.025, p=0.5, n=clicks_total),\n",
    "                     x=control.index, alpha=0.2, color='red')\n",
    "_ = plt.title('Clicks')"
   ]
  },
  {
   "cell_type": "markdown",
   "metadata": {},
   "source": [
    "#### Invariant metric 1: Pageviews"
   ]
  },
  {
   "cell_type": "code",
   "execution_count": 22,
   "metadata": {},
   "outputs": [
    {
     "data": {
      "text/plain": [
       "(0.49882041382459419, 0.50117958617540581)"
      ]
     },
     "execution_count": 22,
     "metadata": {},
     "output_type": "execute_result"
    }
   ],
   "source": [
    "sd_null_hypoth = np.sqrt(0.5 * 0.5 / (control.Pageviews.sum() + test.Pageviews.sum()))\n",
    "m = st.norm.ppf(0.975) * sd_null_hypoth\n",
    "0.5 - m, 0.5 + m"
   ]
  },
  {
   "cell_type": "code",
   "execution_count": 23,
   "metadata": {},
   "outputs": [
    {
     "data": {
      "text/plain": [
       "0.50063966688061334"
      ]
     },
     "execution_count": 23,
     "metadata": {},
     "output_type": "execute_result"
    }
   ],
   "source": [
    "control.Pageviews.sum() / pageviews_total.sum()"
   ]
  },
  {
   "cell_type": "markdown",
   "metadata": {},
   "source": [
    "#### Invariant metric 2: Clicks"
   ]
  },
  {
   "cell_type": "code",
   "execution_count": 24,
   "metadata": {},
   "outputs": [
    {
     "data": {
      "text/plain": [
       "(0.49588457134714631, 0.50411542865285364)"
      ]
     },
     "execution_count": 24,
     "metadata": {},
     "output_type": "execute_result"
    }
   ],
   "source": [
    "sd_null_hypoth = np.sqrt(0.5 * 0.5 / (control.Clicks.sum() + test.Clicks.sum()))\n",
    "m = st.norm.ppf(0.975) * sd_null_hypoth\n",
    "0.5 - m, 0.5 + m"
   ]
  },
  {
   "cell_type": "code",
   "execution_count": 25,
   "metadata": {},
   "outputs": [
    {
     "data": {
      "text/plain": [
       "0.50046734740666277"
      ]
     },
     "execution_count": 25,
     "metadata": {},
     "output_type": "execute_result"
    }
   ],
   "source": [
    "control.Clicks.sum() / clicks_total.sum()"
   ]
  },
  {
   "cell_type": "markdown",
   "metadata": {},
   "source": [
    "#### Invariant metric 3: Click-through-probability"
   ]
  },
  {
   "cell_type": "code",
   "execution_count": 26,
   "metadata": {},
   "outputs": [
    {
     "name": "stdout",
     "output_type": "stream",
     "text": [
      "5.66270915869e-05\n"
     ]
    }
   ],
   "source": [
    "ctr_control = control.Clicks.sum() / control.Pageviews.sum()\n",
    "ctr_test = test.Clicks.sum() / test.Pageviews.sum()\n",
    "ctr_dif = ctr_test - ctr_control\n",
    "print(ctr_dif)"
   ]
  },
  {
   "cell_type": "code",
   "execution_count": 27,
   "metadata": {
    "scrolled": true
   },
   "outputs": [
    {
     "name": "stdout",
     "output_type": "stream",
     "text": [
      "0.00129565539024\n"
     ]
    }
   ],
   "source": [
    "p_pooled = (control.Clicks.sum() + test.Clicks.sum()) / (control.Pageviews.sum() + test.Pageviews.sum())\n",
    "se_pooled = np.sqrt(p_pooled * (1 - p_pooled) * (1 / control.Pageviews.sum() + 1 / test.Pageviews.sum()))\n",
    "error_margin = st.norm.ppf(0.975) * se_pooled\n",
    "print(error_margin)"
   ]
  },
  {
   "cell_type": "code",
   "execution_count": 28,
   "metadata": {},
   "outputs": [
    {
     "data": {
      "text/plain": [
       "(-0.0012999999999999999, 0.0012999999999999999)"
      ]
     },
     "execution_count": 28,
     "metadata": {},
     "output_type": "execute_result"
    }
   ],
   "source": [
    "round(0- error_margin, 4), round(0 + error_margin, 4)"
   ]
  },
  {
   "cell_type": "code",
   "execution_count": 29,
   "metadata": {},
   "outputs": [
    {
     "data": {
      "text/plain": [
       "(37, 5)"
      ]
     },
     "execution_count": 29,
     "metadata": {},
     "output_type": "execute_result"
    }
   ],
   "source": [
    "control.shape"
   ]
  },
  {
   "cell_type": "markdown",
   "metadata": {},
   "source": [
    "### Side-notes: when used pool estimate of p-hat?\n",
    "https://math.stackexchange.com/questions/134339/in-what-situations-should-i-use-and-not-use-a-pooled-estimator-for-hatp\n",
    "\n",
    "Answer: if null hypothesis assumes that true proportions are the same, then use pooled estimate."
   ]
  },
  {
   "cell_type": "markdown",
   "metadata": {},
   "source": [
    "### Step 6: Evaluation metric"
   ]
  },
  {
   "cell_type": "code",
   "execution_count": 30,
   "metadata": {
    "collapsed": true
   },
   "outputs": [],
   "source": [
    "control = control[control.Enrollments.notnull()]\n",
    "test = test[test.Enrollments.notnull()]"
   ]
  },
  {
   "cell_type": "markdown",
   "metadata": {},
   "source": [
    "#### Metric 1: Gross conversion rate"
   ]
  },
  {
   "cell_type": "code",
   "execution_count": 31,
   "metadata": {
    "collapsed": true
   },
   "outputs": [],
   "source": [
    "gross_conv_control = control.Enrollments.sum() / control.Clicks.sum()\n",
    "gross_conv_test = test.Enrollments.sum() / test.Clicks.sum()\n",
    "gross_conv_dif = gross_conv_test - gross_conv_control\n",
    "\n",
    "gross_conv_control_daily = control.Enrollments.div(control.Clicks)\n",
    "gross_conv_test_daily = test.Enrollments.div(test.Clicks)"
   ]
  },
  {
   "cell_type": "code",
   "execution_count": 32,
   "metadata": {},
   "outputs": [
    {
     "data": {
      "text/plain": [
       "(0.2188746891805933, 0.19831981460023174, -0.020554874580361565)"
      ]
     },
     "execution_count": 32,
     "metadata": {},
     "output_type": "execute_result"
    }
   ],
   "source": [
    "gross_conv_control,  gross_conv_test, gross_conv_dif"
   ]
  },
  {
   "cell_type": "code",
   "execution_count": 33,
   "metadata": {},
   "outputs": [
    {
     "data": {
      "text/plain": [
       "<matplotlib.legend.Legend at 0x1a0bba6630>"
      ]
     },
     "execution_count": 33,
     "metadata": {},
     "output_type": "execute_result"
    },
    {
     "data": {
      "image/png": "[encoded data removed]",
      "text/plain": [
       "<matplotlib.figure.Figure at 0x1a0bba6668>"
      ]
     },
     "metadata": {},
     "output_type": "display_data"
    }
   ],
   "source": [
    "gross_conv_control_daily.plot(label='control')\n",
    "gross_conv_test_daily.plot(label='test')\n",
    "plt.legend()"
   ]
  },
  {
   "cell_type": "code",
   "execution_count": 34,
   "metadata": {},
   "outputs": [
    {
     "data": {
      "text/plain": [
       "(0.044042538470278544, 0.047450898050329579)"
      ]
     },
     "execution_count": 34,
     "metadata": {},
     "output_type": "execute_result"
    }
   ],
   "source": [
    "control.Enrollments.div(control.Clicks).std(), test.Enrollments.div(test.Clicks).std()"
   ]
  },
  {
   "cell_type": "code",
   "execution_count": 35,
   "metadata": {
    "collapsed": true
   },
   "outputs": [],
   "source": [
    "def get_se_pooled(s1, s2, n1, n2):\n",
    "    p = (s1 + s2) / (n1 + n2)\n",
    "    return np.sqrt(p * (1 - p) * (1 / n1 + 1 / n2))"
   ]
  },
  {
   "cell_type": "code",
   "execution_count": 36,
   "metadata": {
    "collapsed": true
   },
   "outputs": [],
   "source": [
    "se_pooled = get_se_pooled(control.Enrollments.sum(), test.Enrollments.sum(), \n",
    "                          control.Clicks.sum(), test.Clicks.sum())"
   ]
  },
  {
   "cell_type": "code",
   "execution_count": 37,
   "metadata": {},
   "outputs": [
    {
     "data": {
      "text/plain": [
       "(-0.029123358335404401, -0.01198639082531873)"
      ]
     },
     "execution_count": 37,
     "metadata": {},
     "output_type": "execute_result"
    }
   ],
   "source": [
    "gross_conv_dif - se_pooled * 1.96, gross_conv_dif + se_pooled * 1.96"
   ]
  },
  {
   "cell_type": "markdown",
   "metadata": {},
   "source": [
    "Gross conversation rate is statistically different from zero and its magnitude is larger than practical significance minimum!"
   ]
  },
  {
   "cell_type": "markdown",
   "metadata": {},
   "source": [
    "#### Metric 2: Net conversion rate"
   ]
  },
  {
   "cell_type": "code",
   "execution_count": 38,
   "metadata": {
    "collapsed": true
   },
   "outputs": [],
   "source": [
    "net_conv_control = control.Payments.sum() / control.Clicks.sum()\n",
    "net_conv_test = test.Payments.sum() / test.Clicks.sum()\n",
    "net_conv_dif = net_conv_test - net_conv_control\n",
    "\n",
    "net_conv_control_daily = control.Payments.div(control.Clicks)\n",
    "net_conv_test_daily = test.Payments.div(test.Clicks)"
   ]
  },
  {
   "cell_type": "code",
   "execution_count": 39,
   "metadata": {},
   "outputs": [
    {
     "data": {
      "text/plain": [
       "(0.11756201931417337, 0.1126882966396292, -0.0048737226745441675)"
      ]
     },
     "execution_count": 39,
     "metadata": {},
     "output_type": "execute_result"
    }
   ],
   "source": [
    "net_conv_control, net_conv_test, net_conv_dif"
   ]
  },
  {
   "cell_type": "code",
   "execution_count": 40,
   "metadata": {},
   "outputs": [
    {
     "data": {
      "text/plain": [
       "<matplotlib.legend.Legend at 0x1a14d80320>"
      ]
     },
     "execution_count": 40,
     "metadata": {},
     "output_type": "execute_result"
    },
    {
     "data": {
      "image/png": "[encoded data removed]",
      "text/plain": [
       "<matplotlib.figure.Figure at 0x1a14da8e48>"
      ]
     },
     "metadata": {},
     "output_type": "display_data"
    }
   ],
   "source": [
    "net_conv_control_daily.plot(label='control')\n",
    "net_conv_test_daily.plot(label='test')\n",
    "plt.legend()"
   ]
  },
  {
   "cell_type": "code",
   "execution_count": 41,
   "metadata": {},
   "outputs": [
    {
     "data": {
      "text/plain": [
       "(0.029405136595119761, 0.0321759709762389)"
      ]
     },
     "execution_count": 41,
     "metadata": {},
     "output_type": "execute_result"
    }
   ],
   "source": [
    "control.Payments.div(control.Clicks).std(), test.Payments.div(test.Clicks).std()"
   ]
  },
  {
   "cell_type": "code",
   "execution_count": 42,
   "metadata": {
    "collapsed": true
   },
   "outputs": [],
   "source": [
    "se_pooled = get_se_pooled(control.Payments.sum(), test.Payments.sum(), \n",
    "                          control.Clicks.sum(), test.Clicks.sum())"
   ]
  },
  {
   "cell_type": "code",
   "execution_count": 43,
   "metadata": {},
   "outputs": [
    {
     "data": {
      "text/plain": [
       "(-0.011604624359891718, 0.001857179010803383)"
      ]
     },
     "execution_count": 43,
     "metadata": {},
     "output_type": "execute_result"
    }
   ],
   "source": [
    "net_conv_dif - se_pooled * 1.96, net_conv_dif + se_pooled * 1.96"
   ]
  },
  {
   "cell_type": "markdown",
   "metadata": {},
   "source": [
    "There's no statistical difference in net conversion rate between two groups; however, it's lower bound below practical significance level."
   ]
  },
  {
   "cell_type": "markdown",
   "metadata": {},
   "source": [
    "### Step 7: Sign test"
   ]
  },
  {
   "cell_type": "code",
   "execution_count": 44,
   "metadata": {
    "collapsed": true
   },
   "outputs": [],
   "source": [
    "pval_sign_gross = st.binom_test(x=sum(gross_conv_test_daily > gross_conv_control_daily), n=len(control))\n",
    "pval_sign_net = st.binom_test(x=sum(net_conv_test_daily > net_conv_control_daily), n=len(control))"
   ]
  },
  {
   "cell_type": "code",
   "execution_count": 45,
   "metadata": {},
   "outputs": [
    {
     "data": {
      "text/plain": [
       "(0.0025994777679443364, 0.67763948440551747)"
      ]
     },
     "execution_count": 45,
     "metadata": {},
     "output_type": "execute_result"
    }
   ],
   "source": [
    "pval_sign_gross, pval_sign_net"
   ]
  },
  {
   "cell_type": "markdown",
   "metadata": {},
   "source": [
    "Sign test agrees with findings above."
   ]
  },
  {
   "cell_type": "markdown",
   "metadata": {},
   "source": [
    "## Conclusion"
   ]
  },
  {
   "cell_type": "markdown",
   "metadata": {},
   "source": [
    "Gross conversion rate fell below practical significance level, while net conversion rate is not statistically sigfnificant from zero with lower confidence interval bound below practical significance level.\n",
    "\n",
    "Warning mechanism about insufficient time investment should be modified because current version obviously prevents too many people from enrolling that hurts gross conversionrate and  may potentially impact net conversion rate.\n",
    "\n",
    "Possible modifications to be tested:\n",
    "* lower cut-off value for minimum amount of hours per week\n",
    "* notification can be shifted to second week of free trial: if during the first week factual time invested is lower than cut-off value, notify user about it so that s/he can make concious decision about cancelling or continuing with payed version."
   ]
  },
  {
   "cell_type": "code",
   "execution_count": 46,
   "metadata": {
    "collapsed": true
   },
   "outputs": [],
   "source": [
    "# does not quite match\n",
    "def total_sample_size(d_min_abs, alpha=0.05, beta=0.2):\n",
    "    import scipy.stats as st\n",
    "    #https://www.ncbi.nlm.nih.gov/pubmed/7273794\n",
    "    z_alpha = abs(st.norm.ppf(alpha))\n",
    "    z_beta = abs(st.norm.ppf(beta))\n",
    "    var = 4 * 0.5 * (1 - 0.5) # maximum of pi_bar = 0.5\n",
    "    return (z_alpha + z_beta) ** 2 * var / d_min_abs ** 2"
   ]
  },
  {
   "cell_type": "code",
   "execution_count": 47,
   "metadata": {
    "scrolled": true
   },
   "outputs": [
    {
     "data": {
      "text/plain": [
       "54956.064284620188"
      ]
     },
     "execution_count": 47,
     "metadata": {},
     "output_type": "execute_result"
    }
   ],
   "source": [
    "total_sample_size(d_min_abs=0.0075) / 2"
   ]
  },
  {
   "cell_type": "code",
   "execution_count": 48,
   "metadata": {
    "collapsed": true
   },
   "outputs": [],
   "source": [
    "def get_z_star(alpha):\n",
    "    \"\"\"\n",
    "    Return z-value at alpha quantile.\n",
    "    \"\"\"\n",
    "    return abs(st.norm.ppf(alpha / 2))\n",
    "\n",
    "def get_beta(z_star, d_min, se_unit, n):\n",
    "    \"\"\"\n",
    "    Compute probability of Type-II error\n",
    "    \n",
    "    Parameters\n",
    "    ----------\n",
    "    z_start: float, z-value at alpha\n",
    "    d_min: float, minimum practical difference\n",
    "    se_unit: standard error at n=1\n",
    "    n: suggested sample size\n",
    "    \n",
    "    Returns\n",
    "    ----------\n",
    "    beta: float, Type-II error prob\n",
    "    \"\"\"\n",
    "    se = se_unit / np.sqrt(n)\n",
    "    return st.norm.cdf(z_star * se, loc=d_min, scale=se)\n",
    "\n",
    "def get_sample_size(d_min, se_unit, n_max=1e6, alpha=0.05, beta=0.2):\n",
    "    for n in range(1, int(n_max)):\n",
    "        beta_sug = get_beta(get_z_star(alpha), d_min, se_unit, n)\n",
    "        if beta_sug <= beta:\n",
    "            return n\n",
    "    return -1"
   ]
  },
  {
   "cell_type": "code",
   "execution_count": 49,
   "metadata": {},
   "outputs": [
    {
     "data": {
      "text/plain": [
       "2603"
      ]
     },
     "execution_count": 49,
     "metadata": {},
     "output_type": "execute_result"
    }
   ],
   "source": [
    "get_sample_size(d_min=0.02, se_unit=0.00515 * np.sqrt(5000))"
   ]
  },
  {
   "cell_type": "code",
   "execution_count": 50,
   "metadata": {
    "scrolled": true
   },
   "outputs": [
    {
     "data": {
      "text/plain": [
       "13894"
      ]
     },
     "execution_count": 50,
     "metadata": {},
     "output_type": "execute_result"
    }
   ],
   "source": [
    "get_sample_size(d_min=0.02, se_unit=0.0119*np.sqrt(5000))"
   ]
  },
  {
   "cell_type": "code",
   "execution_count": 51,
   "metadata": {},
   "outputs": [
    {
     "data": {
      "text/plain": [
       "54956.064284620188"
      ]
     },
     "execution_count": 51,
     "metadata": {},
     "output_type": "execute_result"
    }
   ],
   "source": [
    "total_sample_size(d_min_abs=0.0075) / 2"
   ]
  },
  {
   "cell_type": "code",
   "execution_count": 52,
   "metadata": {},
   "outputs": [
    {
     "data": {
      "text/plain": [
       "15456.393080049425"
      ]
     },
     "execution_count": 52,
     "metadata": {},
     "output_type": "execute_result"
    }
   ],
   "source": [
    "total_sample_size(d_min_abs=0.02)"
   ]
  },
  {
   "cell_type": "code",
   "execution_count": 53,
   "metadata": {},
   "outputs": [
    {
     "data": {
      "text/plain": [
       "19623"
      ]
     },
     "execution_count": 53,
     "metadata": {},
     "output_type": "execute_result"
    }
   ],
   "source": [
    "get_sample_size(d_min=0.02, se_unit=0.5*2)"
   ]
  }
 ],
 "metadata": {
  "anaconda-cloud": {},
  "kernelspec": {
   "display_name": "Python 3",
   "language": "python",
   "name": "python3"
  },
  "language_info": {
   "codemirror_mode": {
    "name": "ipython",
    "version": 3
   },
   "file_extension": ".py",
   "mimetype": "text/x-python",
   "name": "python",
   "nbconvert_exporter": "python",
   "pygments_lexer": "ipython3",
   "version": "3.6.2"
  }
 },
 "nbformat": 4,
 "nbformat_minor": 2
}
